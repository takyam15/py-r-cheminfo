{
 "cells": [
  {
   "cell_type": "code",
   "execution_count": 1,
   "id": "1555cd78-387f-4cf7-b594-ffa20ef8c4ff",
   "metadata": {},
   "outputs": [],
   "source": [
    "import os\n",
    "\n",
    "from dotenv import load_dotenv\n",
    "import psycopg2\n",
    "from sqlalchemy import create_engine\n",
    "from sqlalchemy.orm import declarative_base, sessionmaker\n",
    "from sqlalchemy.schema import Column\n",
    "from sqlalchemy.types import Integer, String"
   ]
  },
  {
   "cell_type": "code",
   "execution_count": 2,
   "id": "ad50ea5c-85f5-42ed-bea7-c15a609c3487",
   "metadata": {},
   "outputs": [],
   "source": [
    "load_dotenv()\n",
    "dbname = os.environ['POSTGRES_DB']\n",
    "username = os.environ['POSTGRES_USER']\n",
    "password = os.environ['POSTGRES_PASSWORD']\n",
    "host = 'postgres'\n",
    "port = '5432'"
   ]
  },
  {
   "cell_type": "code",
   "execution_count": 3,
   "id": "1bb8097d-d046-46d3-b080-1f23989f191b",
   "metadata": {},
   "outputs": [
    {
     "name": "stdout",
     "output_type": "stream",
     "text": [
      "('PostgreSQL 14.4 (Debian 14.4-1.pgdg110+1) on x86_64-pc-linux-gnu, compiled by gcc (Debian 10.2.1-6) 10.2.1 20210110, 64-bit',)\n"
     ]
    }
   ],
   "source": [
    "conn = psycopg2.connect(dbname=dbname, user=username, password=password, host=host, port=port)\n",
    "with conn:\n",
    "    with conn.cursor() as curs:\n",
    "        curs.execute('SELECT VERSION()')\n",
    "        print(curs.fetchone())\n",
    "conn.close()"
   ]
  },
  {
   "cell_type": "code",
   "execution_count": 4,
   "id": "ba99a56f-8742-44e5-8789-d6ba72468f84",
   "metadata": {},
   "outputs": [],
   "source": [
    "engine = create_engine(f'postgresql://{username}:{password}@{host}:{port}/{dbname}')\n",
    "Base = declarative_base()\n",
    "\n",
    "\n",
    "class User(Base):\n",
    "    __tablename__ = 'users'\n",
    "    user_id = Column(Integer, primary_key=True)\n",
    "    username = Column(String(255))\n",
    "    email = Column(String(255))\n",
    "\n",
    "    def full_name(self):\n",
    "        return f'{self.username} ({self.email})'\n",
    "    \n",
    "    \n",
    "Base.metadata.create_all(engine)\n",
    "\n",
    "Session = sessionmaker(engine)"
   ]
  },
  {
   "cell_type": "code",
   "execution_count": 5,
   "id": "597bd698-0871-40e0-b921-97224c882327",
   "metadata": {},
   "outputs": [],
   "source": [
    "session = Session()\n",
    "\n",
    "user_1 = User(username='user1', email='user1@example.com')\n",
    "user_2 = User(username='user2', email='user2@example.com')\n",
    "\n",
    "try:\n",
    "    session.add(user_1)\n",
    "    session.add(user_2)\n",
    "    session.commit()\n",
    "finally:\n",
    "    session.close()"
   ]
  },
  {
   "cell_type": "code",
   "execution_count": 6,
   "id": "d813378d-fe20-4bd6-a33b-e81b18c7f6a3",
   "metadata": {},
   "outputs": [
    {
     "name": "stdout",
     "output_type": "stream",
     "text": [
      "['user1 (user1@example.com)', 'user2 (user2@example.com)']\n",
      "user1 (user1@example.com)\n"
     ]
    }
   ],
   "source": [
    "session = Session()\n",
    "\n",
    "try:\n",
    "    users = session.query(User).all()\n",
    "    print([user.full_name() for user in users])\n",
    "    user = session.query(User).first()\n",
    "    print(user.full_name())\n",
    "finally:\n",
    "    session.close()"
   ]
  },
  {
   "cell_type": "code",
   "execution_count": 7,
   "id": "1e457c5e-2092-4596-bdd0-e2a91b8d3253",
   "metadata": {},
   "outputs": [
    {
     "name": "stdout",
     "output_type": "stream",
     "text": [
      "udpated_user (user1@example.com)\n"
     ]
    }
   ],
   "source": [
    "session = Session()\n",
    "\n",
    "try:\n",
    "    user_1 = session.query(User).get(1)\n",
    "    user_1.username = 'udpated_user'\n",
    "    session.commit()\n",
    "    print(user_1.full_name())\n",
    "finally:\n",
    "    session.close()"
   ]
  },
  {
   "cell_type": "code",
   "execution_count": 8,
   "id": "00c494e9-6411-4633-aacf-89515e3cfd73",
   "metadata": {},
   "outputs": [],
   "source": [
    "session = Session()\n",
    "\n",
    "try:\n",
    "    user_1 = session.query(User).get(1)\n",
    "    user_2 = session.query(User).get(2)\n",
    "    session.delete(user_1)\n",
    "    session.delete(user_2)\n",
    "    session.commit()\n",
    "finally:\n",
    "    session.close()"
   ]
  },
  {
   "cell_type": "code",
   "execution_count": 9,
   "id": "944f8b66-d8c4-427a-88eb-5db7ff434e88",
   "metadata": {},
   "outputs": [
    {
     "name": "stdout",
     "output_type": "stream",
     "text": [
      "['user3 (user3@example.com)', 'user4 (user4@example.com)']\n",
      "user3 (user3@example.com)\n",
      "udpated_user (user3@example.com)\n"
     ]
    }
   ],
   "source": [
    "user_3 = User(username='user3', email='user3@example.com')\n",
    "user_4 = User(username='user4', email='user4@example.com')\n",
    "\n",
    "with Session() as session:\n",
    "    session.add(user_3)\n",
    "    session.add(user_4)\n",
    "    session.commit()\n",
    "    users = session.query(User).all()\n",
    "    print([user.full_name() for user in users])\n",
    "    user = session.query(User).first()\n",
    "    print(user.full_name())\n",
    "    user_3 = session.query(User).get(3)\n",
    "    user_3.username = 'udpated_user'\n",
    "    session.commit()\n",
    "    user_3 = session.query(User).get(3)\n",
    "    print(user_3.full_name())\n",
    "    user_3 = session.query(User).get(3)\n",
    "    user_4 = session.query(User).get(4)\n",
    "    session.delete(user_3)\n",
    "    session.delete(user_4)\n",
    "    session.commit()"
   ]
  },
  {
   "cell_type": "code",
   "execution_count": 10,
   "id": "7b246c74-bc95-4462-a291-8af2b740699b",
   "metadata": {},
   "outputs": [],
   "source": [
    "Base.metadata.drop_all(engine)"
   ]
  }
 ],
 "metadata": {
  "kernelspec": {
   "display_name": "Python 3 (ipykernel)",
   "language": "python",
   "name": "python3"
  },
  "language_info": {
   "codemirror_mode": {
    "name": "ipython",
    "version": 3
   },
   "file_extension": ".py",
   "mimetype": "text/x-python",
   "name": "python",
   "nbconvert_exporter": "python",
   "pygments_lexer": "ipython3",
   "version": "3.7.12"
  }
 },
 "nbformat": 4,
 "nbformat_minor": 5
}
